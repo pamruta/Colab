{
  "nbformat": 4,
  "nbformat_minor": 0,
  "metadata": {
    "colab": {
      "name": "OpenPose.ipynb",
      "version": "0.3.2",
      "provenance": [],
      "collapsed_sections": [],
      "include_colab_link": true
    },
    "kernelspec": {
      "name": "python3",
      "display_name": "Python 3"
    },
    "accelerator": "GPU"
  },
  "cells": [
    {
      "cell_type": "markdown",
      "metadata": {
        "id": "view-in-github",
        "colab_type": "text"
      },
      "source": [
        "<a href=\"https://colab.research.google.com/github/pamruta/Colab/blob/master/OpenPose.ipynb\" target=\"_parent\"><img src=\"https://colab.research.google.com/assets/colab-badge.svg\" alt=\"Open In Colab\"/></a>"
      ]
    },
    {
      "cell_type": "markdown",
      "metadata": {
        "id": "FTsta1BHF17R",
        "colab_type": "text"
      },
      "source": [
        "# **Capturing Body Movements and Actions in Videos with Open Pose**\n",
        "\n",
        "OpenPose is a deep-learning based computer vision library which captures hand gestures and body movements directly from Videos without using any kinetic or motion sensors on body.."
      ]
    },
    {
      "cell_type": "markdown",
      "metadata": {
        "id": "nX1kMtPeF9N1",
        "colab_type": "text"
      },
      "source": [
        "This Colab Notebook demonstrates how to :\n",
        "\n",
        "- Download and Compile OpenPose in Ubuntu / Colab Environment\n",
        "- Capture Body Movements, Hand Gestures from Dance & Action Videos"
      ]
    },
    {
      "cell_type": "code",
      "metadata": {
        "id": "qgzanNB3LXmw",
        "colab_type": "code",
        "colab": {}
      },
      "source": [
        "# download and install the latest version of cmake\n",
        "! wget -c \"https://github.com/Kitware/CMake/releases/download/v3.14.4/cmake-3.14.4.tar.gz\"\n",
        "! tar xf cmake-3.14.4.tar.gz\n",
        "! cd cmake-3.14.4 && ./configure && make && sudo make install"
      ],
      "execution_count": 0,
      "outputs": []
    },
    {
      "cell_type": "code",
      "metadata": {
        "id": "X-o6n5f-P6Oa",
        "colab_type": "code",
        "colab": {}
      },
      "source": [
        "! apt install -y cmake sudo libopencv-dev"
      ],
      "execution_count": 0,
      "outputs": []
    },
    {
      "cell_type": "code",
      "metadata": {
        "id": "D56LkfV3QAV9",
        "colab_type": "code",
        "outputId": "131cbce7-42b7-4167-f272-949ab24290bc",
        "colab": {
          "base_uri": "https://localhost:8080/",
          "height": 165
        }
      },
      "source": [
        "# download OpenPose from Git Repository\n",
        "! git clone https://github.com/CMU-Perceptual-Computing-Lab/openpose.git"
      ],
      "execution_count": 3,
      "outputs": [
        {
          "output_type": "stream",
          "text": [
            "Cloning into 'openpose'...\n",
            "remote: Enumerating objects: 55, done.\u001b[K\n",
            "remote: Counting objects:   1% (1/55)   \u001b[K\rremote: Counting objects:   3% (2/55)   \u001b[K\rremote: Counting objects:   5% (3/55)   \u001b[K\rremote: Counting objects:   7% (4/55)   \u001b[K\rremote: Counting objects:   9% (5/55)   \u001b[K\rremote: Counting objects:  10% (6/55)   \u001b[K\rremote: Counting objects:  12% (7/55)   \u001b[K\rremote: Counting objects:  14% (8/55)   \u001b[K\rremote: Counting objects:  16% (9/55)   \u001b[K\rremote: Counting objects:  18% (10/55)   \u001b[K\rremote: Counting objects:  20% (11/55)   \u001b[K\rremote: Counting objects:  21% (12/55)   \u001b[K\rremote: Counting objects:  23% (13/55)   \u001b[K\rremote: Counting objects:  25% (14/55)   \u001b[K\rremote: Counting objects:  27% (15/55)   \u001b[K\rremote: Counting objects:  29% (16/55)   \u001b[K\rremote: Counting objects:  30% (17/55)   \u001b[K\rremote: Counting objects:  32% (18/55)   \u001b[K\rremote: Counting objects:  34% (19/55)   \u001b[K\rremote: Counting objects:  36% (20/55)   \u001b[K\rremote: Counting objects:  38% (21/55)   \u001b[K\rremote: Counting objects:  40% (22/55)   \u001b[K\rremote: Counting objects:  41% (23/55)   \u001b[K\rremote: Counting objects:  43% (24/55)   \u001b[K\rremote: Counting objects:  45% (25/55)   \u001b[K\rremote: Counting objects:  47% (26/55)   \u001b[K\rremote: Counting objects:  49% (27/55)   \u001b[K\rremote: Counting objects:  50% (28/55)   \u001b[K\rremote: Counting objects:  52% (29/55)   \u001b[K\rremote: Counting objects:  54% (30/55)   \u001b[K\rremote: Counting objects:  56% (31/55)   \u001b[K\rremote: Counting objects:  58% (32/55)   \u001b[K\rremote: Counting objects:  60% (33/55)   \u001b[K\rremote: Counting objects:  61% (34/55)   \u001b[K\rremote: Counting objects:  63% (35/55)   \u001b[K\rremote: Counting objects:  65% (36/55)   \u001b[K\rremote: Counting objects:  67% (37/55)   \u001b[K\rremote: Counting objects:  69% (38/55)   \u001b[K\rremote: Counting objects:  70% (39/55)   \u001b[K\rremote: Counting objects:  72% (40/55)   \u001b[K\rremote: Counting objects:  74% (41/55)   \u001b[K\rremote: Counting objects:  76% (42/55)   \u001b[K\rremote: Counting objects:  78% (43/55)   \u001b[K\rremote: Counting objects:  80% (44/55)   \u001b[K\rremote: Counting objects:  81% (45/55)   \u001b[K\rremote: Counting objects:  83% (46/55)   \u001b[K\rremote: Counting objects:  85% (47/55)   \u001b[K\rremote: Counting objects:  87% (48/55)   \u001b[K\rremote: Counting objects:  89% (49/55)   \u001b[K\rremote: Counting objects:  90% (50/55)   \u001b[K\rremote: Counting objects:  92% (51/55)   \u001b[K\rremote: Counting objects:  94% (52/55)   \u001b[K\rremote: Counting objects:  96% (53/55)   \u001b[K\rremote: Counting objects:  98% (54/55)   \u001b[K\rremote: Counting objects: 100% (55/55)   \u001b[K\rremote: Counting objects: 100% (55/55), done.\u001b[K\n",
            "remote: Compressing objects: 100% (46/46), done.\u001b[K\n",
            "remote: Total 21370 (delta 15), reused 17 (delta 8), pack-reused 21315\u001b[K\n",
            "Receiving objects: 100% (21370/21370), 84.08 MiB | 47.70 MiB/s, done.\n",
            "Resolving deltas: 100% (16700/16700), done.\n"
          ],
          "name": "stdout"
        }
      ]
    },
    {
      "cell_type": "code",
      "metadata": {
        "id": "jbhNObjgQFtH",
        "colab_type": "code",
        "colab": {}
      },
      "source": [
        "# install dependencies\n",
        "! cd openpose/scripts/ubuntu && bash ./install_deps.sh && bash ./install_cuda.sh && bash ./install_cudnn.sh"
      ],
      "execution_count": 0,
      "outputs": []
    },
    {
      "cell_type": "code",
      "metadata": {
        "id": "CIJft6TGQm8p",
        "colab_type": "code",
        "colab": {}
      },
      "source": [
        "# this is just a fix to address few compilation issues\n",
        "! sed -i 's/execute_process(COMMAND git checkout master WORKING_DIRECTORY ${CMAKE_SOURCE_DIR}\\/3rdparty\\/caffe)/execute_process(COMMAND git checkout f019d0dfe86f49d1140961f8c7dec22130c83154 WORKING_DIRECTORY ${CMAKE_SOURCE_DIR}\\/3rdparty\\/caffe)/g' openpose/CMakeLists.txt"
      ],
      "execution_count": 0,
      "outputs": []
    },
    {
      "cell_type": "code",
      "metadata": {
        "id": "se7ycmrWRBtI",
        "colab_type": "code",
        "outputId": "578f5fef-274a-4e7b-db9d-cefa9fd86d40",
        "colab": {
          "base_uri": "https://localhost:8080/",
          "height": 97
        }
      },
      "source": [
        "! cd openpose && git pull origin master "
      ],
      "execution_count": 6,
      "outputs": [
        {
          "output_type": "stream",
          "text": [
            "From https://github.com/CMU-Perceptual-Computing-Lab/openpose\n",
            " * branch              master     -> FETCH_HEAD\n",
            "Already up to date.\n"
          ],
          "name": "stdout"
        }
      ]
    },
    {
      "cell_type": "code",
      "metadata": {
        "id": "i2Jo15HnRP97",
        "colab_type": "code",
        "colab": {}
      },
      "source": [
        "# now the important step - compiling OpenPose with cmake\n",
        "! /bin/rm -r openpose/build\n",
        "! cd openpose && mkdir build && cd build && cmake .. && make -j `nproc`"
      ],
      "execution_count": 0,
      "outputs": []
    },
    {
      "cell_type": "code",
      "metadata": {
        "id": "aECTG5RbZ_If",
        "colab_type": "code",
        "outputId": "03e44ab9-7419-46c1-945d-c131d5f49bb9",
        "colab": {
          "base_uri": "https://localhost:8080/",
          "height": 242
        }
      },
      "source": [
        "# run on sample video\n",
        "! cd openpose && ./build/examples/openpose/openpose.bin --video ../vaijayanthi-1.mp4 --display 0 --disable_blending --write_video ../output.avi"
      ],
      "execution_count": 8,
      "outputs": [
        {
          "output_type": "stream",
          "text": [
            "Starting OpenPose demo...\n",
            "Configuring OpenPose...\n",
            "Starting thread(s)...\n",
            "Auto-detecting all available GPUs... Detected 1 GPU(s), using 1 of them starting at GPU 0.\n",
            "Empty frame detected, frame number 1375 of 1376. In /content/openpose/src/openpose/producer/producer.cpp:checkFrameIntegrity():285\n",
            "Empty frame detected, frame number 1375 of 1376. In /content/openpose/src/openpose/producer/producer.cpp:checkFrameIntegrity():285\n",
            "Empty frame detected, frame number 1375 of 1376. In /content/openpose/src/openpose/producer/producer.cpp:checkFrameIntegrity():285\n",
            "OpenPose demo successfully finished. Total time: 115.556764 seconds.\n"
          ],
          "name": "stdout"
        }
      ]
    }
  ]
}